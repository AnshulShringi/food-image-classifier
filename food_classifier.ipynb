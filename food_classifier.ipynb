{
  "nbformat": 4,
  "nbformat_minor": 0,
  "metadata": {
    "colab": {
      "name": "food_classifier.ipynb",
      "provenance": [],
      "collapsed_sections": []
    },
    "kernelspec": {
      "name": "python3",
      "display_name": "Python 3"
    },
    "accelerator": "GPU"
  },
  "cells": [
    {
      "cell_type": "code",
      "metadata": {
        "id": "smghZ1ZuEbSQ",
        "colab": {
          "base_uri": "https://localhost:8080/"
        },
        "outputId": "833dc6b1-8499-45cc-a47c-3a2cc9d30818"
      },
      "source": [
        "!git clone https://github.com/harancho/food-image-classifier.git\n",
        "!pip install -U keras-tuner\n",
        "!pip install split-folders\n",
        "\n",
        "#!wget http://data.vision.ee.ethz.ch/cvl/food-101.tar.gz\n",
        "#!tar xzvf food-101.tar.gz"
      ],
      "execution_count": null,
      "outputs": [
        {
          "output_type": "stream",
          "text": [
            "Cloning into 'food-image-classifier'...\n",
            "remote: Enumerating objects: 66, done.\u001b[K\n",
            "remote: Counting objects: 100% (66/66), done.\u001b[K\n",
            "remote: Compressing objects: 100% (38/38), done.\u001b[K\n",
            "remote: Total 5073 (delta 14), reused 66 (delta 14), pack-reused 5007\u001b[K\n",
            "Receiving objects: 100% (5073/5073), 265.65 MiB | 43.75 MiB/s, done.\n",
            "Resolving deltas: 100% (14/14), done.\n",
            "Checking out files: 100% (5043/5043), done.\n",
            "Collecting keras-tuner\n",
            "\u001b[?25l  Downloading https://files.pythonhosted.org/packages/20/ec/1ef246787174b1e2bb591c95f29d3c1310070cad877824f907faba3dade9/keras-tuner-1.0.2.tar.gz (62kB)\n",
            "\u001b[K     |████████████████████████████████| 71kB 7.5MB/s \n",
            "\u001b[?25hRequirement already satisfied, skipping upgrade: packaging in /usr/local/lib/python3.6/dist-packages (from keras-tuner) (20.4)\n",
            "Requirement already satisfied, skipping upgrade: future in /usr/local/lib/python3.6/dist-packages (from keras-tuner) (0.16.0)\n",
            "Requirement already satisfied, skipping upgrade: numpy in /usr/local/lib/python3.6/dist-packages (from keras-tuner) (1.18.5)\n",
            "Requirement already satisfied, skipping upgrade: tabulate in /usr/local/lib/python3.6/dist-packages (from keras-tuner) (0.8.7)\n",
            "Collecting terminaltables\n",
            "  Downloading https://files.pythonhosted.org/packages/9b/c4/4a21174f32f8a7e1104798c445dacdc1d4df86f2f26722767034e4de4bff/terminaltables-3.1.0.tar.gz\n",
            "Collecting colorama\n",
            "  Downloading https://files.pythonhosted.org/packages/44/98/5b86278fbbf250d239ae0ecb724f8572af1c91f4a11edf4d36a206189440/colorama-0.4.4-py2.py3-none-any.whl\n",
            "Requirement already satisfied, skipping upgrade: tqdm in /usr/local/lib/python3.6/dist-packages (from keras-tuner) (4.41.1)\n",
            "Requirement already satisfied, skipping upgrade: requests in /usr/local/lib/python3.6/dist-packages (from keras-tuner) (2.23.0)\n",
            "Requirement already satisfied, skipping upgrade: scipy in /usr/local/lib/python3.6/dist-packages (from keras-tuner) (1.4.1)\n",
            "Requirement already satisfied, skipping upgrade: scikit-learn in /usr/local/lib/python3.6/dist-packages (from keras-tuner) (0.22.2.post1)\n",
            "Requirement already satisfied, skipping upgrade: pyparsing>=2.0.2 in /usr/local/lib/python3.6/dist-packages (from packaging->keras-tuner) (2.4.7)\n",
            "Requirement already satisfied, skipping upgrade: six in /usr/local/lib/python3.6/dist-packages (from packaging->keras-tuner) (1.15.0)\n",
            "Requirement already satisfied, skipping upgrade: chardet<4,>=3.0.2 in /usr/local/lib/python3.6/dist-packages (from requests->keras-tuner) (3.0.4)\n",
            "Requirement already satisfied, skipping upgrade: idna<3,>=2.5 in /usr/local/lib/python3.6/dist-packages (from requests->keras-tuner) (2.10)\n",
            "Requirement already satisfied, skipping upgrade: certifi>=2017.4.17 in /usr/local/lib/python3.6/dist-packages (from requests->keras-tuner) (2020.11.8)\n",
            "Requirement already satisfied, skipping upgrade: urllib3!=1.25.0,!=1.25.1,<1.26,>=1.21.1 in /usr/local/lib/python3.6/dist-packages (from requests->keras-tuner) (1.24.3)\n",
            "Requirement already satisfied, skipping upgrade: joblib>=0.11 in /usr/local/lib/python3.6/dist-packages (from scikit-learn->keras-tuner) (0.17.0)\n",
            "Building wheels for collected packages: keras-tuner, terminaltables\n",
            "  Building wheel for keras-tuner (setup.py) ... \u001b[?25l\u001b[?25hdone\n",
            "  Created wheel for keras-tuner: filename=keras_tuner-1.0.2-cp36-none-any.whl size=78937 sha256=8bedd851cddc9c464541ad17da72515832e026a989043b9c66126e676729ff3f\n",
            "  Stored in directory: /root/.cache/pip/wheels/bb/a1/8a/7c3de0efb3707a1701b36ebbfdbc4e67aedf6d4943a1f463d6\n",
            "  Building wheel for terminaltables (setup.py) ... \u001b[?25l\u001b[?25hdone\n",
            "  Created wheel for terminaltables: filename=terminaltables-3.1.0-cp36-none-any.whl size=15356 sha256=a20178e18b5df7414ad83fbc4fc56e91b888180f9903665a21759faf9dc162d5\n",
            "  Stored in directory: /root/.cache/pip/wheels/30/6b/50/6c75775b681fb36cdfac7f19799888ef9d8813aff9e379663e\n",
            "Successfully built keras-tuner terminaltables\n",
            "Installing collected packages: terminaltables, colorama, keras-tuner\n",
            "Successfully installed colorama-0.4.4 keras-tuner-1.0.2 terminaltables-3.1.0\n",
            "Collecting split-folders\n",
            "  Downloading https://files.pythonhosted.org/packages/b8/5f/3c2b2f7ea5e047c8cdc3bb00ae582c5438fcdbbedcc23b3cc1c2c7aae642/split_folders-0.4.3-py3-none-any.whl\n",
            "Installing collected packages: split-folders\n",
            "Successfully installed split-folders-0.4.3\n"
          ],
          "name": "stdout"
        }
      ]
    },
    {
      "cell_type": "code",
      "metadata": {
        "id": "Uitevz-5GbGJ"
      },
      "source": [
        "import tensorflow as tf\n",
        "from tensorflow.keras.preprocessing.image import ImageDataGenerator\n",
        "from kerastuner.tuners import RandomSearch\n",
        "from kerastuner.engine.hyperparameters import HyperParameters\n",
        "import shutil\n",
        "import splitfolders\n",
        "# shutil.rmtree('food-image-classifier/dataset/.ipynb_checkpoints')"
      ],
      "execution_count": null,
      "outputs": []
    },
    {
      "cell_type": "code",
      "metadata": {
        "colab": {
          "base_uri": "https://localhost:8080/"
        },
        "id": "-mEY-o4OvWpc",
        "outputId": "e3841719-b8f0-4440-a7e9-d8ad67f68252"
      },
      "source": [
        "splitfolders.ratio('food-image-classifier/dataset/', output='output', seed=1337, ratio=(.8, .1, .1), group_prefix=None)"
      ],
      "execution_count": null,
      "outputs": [
        {
          "output_type": "stream",
          "text": [
            "Copying files: 5000 files [00:01, 4680.50 files/s]\n"
          ],
          "name": "stderr"
        }
      ]
    },
    {
      "cell_type": "code",
      "metadata": {
        "id": "k8St4W31H0KL",
        "colab": {
          "base_uri": "https://localhost:8080/"
        },
        "outputId": "9ced1e85-bb25-45ea-fcca-f6b4daee01f9"
      },
      "source": [
        "# datasets directories\n",
        "train_data_dir = 'output/train/'   #'food-101/images/'\n",
        "val_data_dir = 'output/val/'\n",
        "batch_size = 16\n",
        "\n",
        "# Rescaling images\n",
        "train_datagen = ImageDataGenerator(\n",
        "    rescale=1./255,\n",
        "    shear_range=0.2,\n",
        "    zoom_range=0.2,\n",
        "    rotation_range=10,\n",
        "    width_shift_range=0.05,\n",
        "    height_shift_range=0.05,\n",
        "    fill_mode='nearest',\n",
        "    horizontal_flip=True) \n",
        "\n",
        "validation_datagen = ImageDataGenerator(rescale=1./255)           \n",
        "\n",
        "train_generator = train_datagen.flow_from_directory(\n",
        "    train_data_dir,\n",
        "    target_size=(300,300),\n",
        "    batch_size=batch_size,\n",
        "    shuffle=True,\n",
        "    class_mode='categorical') \n",
        "\n",
        "validation_generator = validation_datagen.flow_from_directory(\n",
        "    val_data_dir, \n",
        "    target_size=(300,300),\n",
        "    batch_size=batch_size,\n",
        "    shuffle=True,\n",
        "    class_mode='categorical') "
      ],
      "execution_count": null,
      "outputs": [
        {
          "output_type": "stream",
          "text": [
            "Found 4000 images belonging to 5 classes.\n",
            "Found 500 images belonging to 5 classes.\n"
          ],
          "name": "stdout"
        }
      ]
    },
    {
      "cell_type": "code",
      "metadata": {
        "id": "LjFxQFp1-o9O"
      },
      "source": [
        "def build_model():\n",
        "    model = tf.keras.models.Sequential([\n",
        "                                        \n",
        "        # This is the first convolution                                \n",
        "        tf.keras.layers.Conv2D(64,(3,3), activation='relu', input_shape=(300, 300, 3)),\n",
        "        tf.keras.layers.MaxPooling2D(2, 2),\n",
        "\n",
        "        # The second convolution\n",
        "        tf.keras.layers.Conv2D(64,(3,3), activation='relu'),\n",
        "        tf.keras.layers.MaxPooling2D(2,2),\n",
        "\n",
        "        # The third convolution\n",
        "        tf.keras.layers.Conv2D(128,(3,3), activation='relu'),\n",
        "        tf.keras.layers.MaxPooling2D(2,2),\n",
        "\n",
        "        # The fourth convolution\n",
        "        tf.keras.layers.Conv2D(128,(3,3), activation='relu'),\n",
        "        tf.keras.layers.MaxPooling2D(2,2),\n",
        "\n",
        "        \n",
        "\n",
        "        # Flatten the results to feed into a DNN\n",
        "        tf.keras.layers.Flatten(),\n",
        "\n",
        "        tf.keras.layers.Dense(512, activation='relu'),\n",
        "        tf.keras.layers.Dense(256, activation='relu'),\n",
        "\n",
        "        # Output layer\n",
        "        tf.keras.layers.Dense(5, activation='softmax')\n",
        "                                      \n",
        "    ])\n",
        "\n",
        "    model.compile(optimizer='adam', loss='categorical_crossentropy', metrics=['accuracy'])\n",
        "    return model\n",
        "    "
      ],
      "execution_count": null,
      "outputs": []
    },
    {
      "cell_type": "code",
      "metadata": {
        "id": "5Myun_z5a7wl",
        "colab": {
          "base_uri": "https://localhost:8080/"
        },
        "outputId": "fe7f6525-6166-4a3f-f7a9-3d77e5e56514"
      },
      "source": [
        "model = build_model()\n",
        "my_callbacks = tf.keras.callbacks.EarlyStopping(monitor='loss', patience=3)\n",
        "\n",
        "history = model.fit(\n",
        "            train_generator,\n",
        "            steps_per_epoch=train_generator.samples // batch_size,  \n",
        "            epochs=30,\n",
        "            validation_data = validation_generator,\n",
        "            validation_steps=validation_generator.samples // batch_size,\n",
        "            callbacks=[my_callbacks]\n",
        "            )"
      ],
      "execution_count": null,
      "outputs": [
        {
          "output_type": "stream",
          "text": [
            "Epoch 1/30\n",
            "250/250 [==============================] - 89s 356ms/step - loss: 1.6050 - accuracy: 0.2245 - val_loss: 1.5396 - val_accuracy: 0.3327\n",
            "Epoch 2/30\n",
            "250/250 [==============================] - 88s 353ms/step - loss: 1.4798 - accuracy: 0.3293 - val_loss: 1.4091 - val_accuracy: 0.3306\n",
            "Epoch 3/30\n",
            "250/250 [==============================] - 88s 352ms/step - loss: 1.4416 - accuracy: 0.3523 - val_loss: 1.3901 - val_accuracy: 0.3710\n",
            "Epoch 4/30\n",
            "250/250 [==============================] - 89s 356ms/step - loss: 1.4082 - accuracy: 0.3820 - val_loss: 1.3511 - val_accuracy: 0.4113\n",
            "Epoch 5/30\n",
            "250/250 [==============================] - 90s 361ms/step - loss: 1.3617 - accuracy: 0.4252 - val_loss: 1.3230 - val_accuracy: 0.4395\n",
            "Epoch 6/30\n",
            "250/250 [==============================] - 91s 364ms/step - loss: 1.3042 - accuracy: 0.4597 - val_loss: 1.2585 - val_accuracy: 0.4778\n",
            "Epoch 7/30\n",
            "250/250 [==============================] - 93s 370ms/step - loss: 1.2351 - accuracy: 0.4942 - val_loss: 1.1950 - val_accuracy: 0.5323\n",
            "Epoch 8/30\n",
            "250/250 [==============================] - 93s 370ms/step - loss: 1.1759 - accuracy: 0.5293 - val_loss: 1.1652 - val_accuracy: 0.5242\n",
            "Epoch 9/30\n",
            "250/250 [==============================] - 92s 367ms/step - loss: 1.0965 - accuracy: 0.5608 - val_loss: 1.0203 - val_accuracy: 0.5645\n",
            "Epoch 10/30\n",
            "250/250 [==============================] - 93s 370ms/step - loss: 1.0258 - accuracy: 0.5972 - val_loss: 0.9802 - val_accuracy: 0.6190\n",
            "Epoch 11/30\n",
            "250/250 [==============================] - 92s 369ms/step - loss: 0.9512 - accuracy: 0.6210 - val_loss: 0.9417 - val_accuracy: 0.6250\n",
            "Epoch 12/30\n",
            "250/250 [==============================] - 90s 361ms/step - loss: 0.9001 - accuracy: 0.6420 - val_loss: 0.9902 - val_accuracy: 0.6008\n",
            "Epoch 13/30\n",
            "250/250 [==============================] - 91s 363ms/step - loss: 0.8855 - accuracy: 0.6463 - val_loss: 0.8810 - val_accuracy: 0.6653\n",
            "Epoch 14/30\n",
            "250/250 [==============================] - 92s 370ms/step - loss: 0.8333 - accuracy: 0.6750 - val_loss: 0.9388 - val_accuracy: 0.6714\n",
            "Epoch 15/30\n",
            "250/250 [==============================] - 93s 371ms/step - loss: 0.7987 - accuracy: 0.6837 - val_loss: 0.8612 - val_accuracy: 0.6875\n",
            "Epoch 16/30\n",
            "250/250 [==============================] - 90s 360ms/step - loss: 0.7780 - accuracy: 0.7045 - val_loss: 0.8777 - val_accuracy: 0.6653\n",
            "Epoch 17/30\n",
            "250/250 [==============================] - 88s 353ms/step - loss: 0.7518 - accuracy: 0.7070 - val_loss: 0.9532 - val_accuracy: 0.6351\n",
            "Epoch 18/30\n",
            "250/250 [==============================] - 88s 350ms/step - loss: 0.7285 - accuracy: 0.7135 - val_loss: 0.9155 - val_accuracy: 0.6653\n",
            "Epoch 19/30\n",
            "250/250 [==============================] - 89s 356ms/step - loss: 0.6945 - accuracy: 0.7278 - val_loss: 0.8526 - val_accuracy: 0.6794\n",
            "Epoch 20/30\n",
            "250/250 [==============================] - 89s 357ms/step - loss: 0.6740 - accuracy: 0.7412 - val_loss: 0.8536 - val_accuracy: 0.6976\n",
            "Epoch 21/30\n",
            "250/250 [==============================] - 87s 350ms/step - loss: 0.6489 - accuracy: 0.7495 - val_loss: 0.8402 - val_accuracy: 0.6794\n",
            "Epoch 22/30\n",
            "250/250 [==============================] - 87s 349ms/step - loss: 0.6259 - accuracy: 0.7635 - val_loss: 0.8089 - val_accuracy: 0.6976\n",
            "Epoch 23/30\n",
            "250/250 [==============================] - 87s 349ms/step - loss: 0.6045 - accuracy: 0.7682 - val_loss: 0.8730 - val_accuracy: 0.7016\n",
            "Epoch 24/30\n",
            "250/250 [==============================] - 87s 348ms/step - loss: 0.5792 - accuracy: 0.7757 - val_loss: 0.8597 - val_accuracy: 0.6815\n",
            "Epoch 25/30\n",
            "250/250 [==============================] - 87s 350ms/step - loss: 0.5506 - accuracy: 0.7920 - val_loss: 0.8973 - val_accuracy: 0.6613\n",
            "Epoch 26/30\n",
            "250/250 [==============================] - 88s 352ms/step - loss: 0.5284 - accuracy: 0.8043 - val_loss: 0.9277 - val_accuracy: 0.6956\n",
            "Epoch 27/30\n",
            "250/250 [==============================] - 88s 352ms/step - loss: 0.5172 - accuracy: 0.8010 - val_loss: 0.8700 - val_accuracy: 0.6815\n",
            "Epoch 28/30\n",
            "250/250 [==============================] - 88s 350ms/step - loss: 0.5233 - accuracy: 0.7993 - val_loss: 0.8407 - val_accuracy: 0.7016\n",
            "Epoch 29/30\n",
            "250/250 [==============================] - 88s 350ms/step - loss: 0.5190 - accuracy: 0.8115 - val_loss: 0.9553 - val_accuracy: 0.6694\n",
            "Epoch 30/30\n",
            "250/250 [==============================] - 87s 349ms/step - loss: 0.4721 - accuracy: 0.8245 - val_loss: 0.9926 - val_accuracy: 0.6935\n"
          ],
          "name": "stdout"
        }
      ]
    },
    {
      "cell_type": "code",
      "metadata": {
        "colab": {
          "base_uri": "https://localhost:8080/"
        },
        "id": "P1QNKfnGrdO4",
        "outputId": "74de01b4-9476-40ef-e81c-09ef640bdc09"
      },
      "source": [
        "test_datagen = ImageDataGenerator(rescale=1./255)\n",
        "\n",
        "test_generator = test_datagen.flow_from_directory(\n",
        "        'output/test/',\n",
        "        target_size=(300, 300),\n",
        "        shuffle = False,\n",
        "        class_mode='categorical',\n",
        "        batch_size=1)\n",
        "\n",
        "predict = model.evaluate(test_generator,verbose=0)\n",
        "print(\"Loss: {}\\nAccuracy: {}%\".format(round(predict[0],2),round(predict[1]*100,1)))"
      ],
      "execution_count": null,
      "outputs": [
        {
          "output_type": "stream",
          "text": [
            "Found 500 images belonging to 5 classes.\n",
            "Loss: 0.95\n",
            "Accuracy: 68.4%\n"
          ],
          "name": "stdout"
        }
      ]
    },
    {
      "cell_type": "code",
      "metadata": {
        "id": "yKAK1imlQg94",
        "colab": {
          "base_uri": "https://localhost:8080/",
          "height": 573
        },
        "outputId": "4b7322d5-ae23-48e2-c822-8ef65804e6b7"
      },
      "source": [
        "import matplotlib.pyplot as plt\n",
        "\n",
        "def plot_accuracy(history,title):\n",
        "    plt.title(title)\n",
        "    plt.plot(history.history['accuracy'])\n",
        "    plt.plot(history.history['val_accuracy'])\n",
        "    plt.ylabel('accuracy')\n",
        "    plt.xlabel('epoch')\n",
        "    plt.legend(['train_accuracy', 'validation_accuracy'], loc='best')\n",
        "    plt.show()\n",
        "\n",
        "def plot_loss(history,title):\n",
        "    plt.title(title)\n",
        "    plt.plot(history.history['loss'])\n",
        "    plt.plot(history.history['val_loss'])\n",
        "    plt.ylabel('loss')\n",
        "    plt.xlabel('epoch')\n",
        "    plt.legend(['train_loss', 'validation_loss'], loc='best')\n",
        "    plt.show()\n",
        "\n",
        "plot_accuracy(history,'Food-Classification')\n",
        "plot_loss(history,'Food-Classification')"
      ],
      "execution_count": null,
      "outputs": [
        {
          "output_type": "display_data",
          "data": {
            "image/png": "[encoded data removed]",
            "text/plain": [
              "<Figure size 432x288 with 1 Axes>"
            ]
          },
          "metadata": {
            "tags": [],
            "needs_background": "light"
          }
        },
        {
          "output_type": "display_data",
          "data": {
            "image/png": "[encoded data removed]",
            "text/plain": [
              "<Figure size 432x288 with 1 Axes>"
            ]
          },
          "metadata": {
            "tags": [],
            "needs_background": "light"
          }
        }
      ]
    },
    {
      "cell_type": "markdown",
      "metadata": {
        "id": "88ZnO1WREdFw"
      },
      "source": [
        "\n",
        "## Random Search for HyperParameter tuning"
      ]
    },
    {
      "cell_type": "code",
      "metadata": {
        "id": "X9HqOTrMMy08"
      },
      "source": [
        "def build_model_search(hp):\n",
        "    model = tf.keras.models.Sequential([\n",
        "                                        \n",
        "        # This is the first convolution                                \n",
        "        tf.keras.layers.Conv2D(filters=hp.Int('conv_1_filter',min_value=32,max_value=128,step=16),kernel_size=(3,3), activation='relu', input_shape=(150, 150, 3)),\n",
        "        tf.keras.layers.MaxPooling2D(2, 2),\n",
        "\n",
        "        # The second convolution\n",
        "        tf.keras.layers.Conv2D(filters=hp.Int('conv_2_filter',min_value=32,max_value=128,step=16),kernel_size=(3,3), activation='relu'),\n",
        "        tf.keras.layers.MaxPooling2D(2,2),\n",
        "\n",
        "        # The third convolution\n",
        "        tf.keras.layers.Conv2D(filters=hp.Int('conv_3_filter',min_value=32,max_value=128,step=16),kernel_size=(3,3), activation='relu'),\n",
        "        tf.keras.layers.MaxPooling2D(2,2),\n",
        "\n",
        "        # The fourth convolution\n",
        "        tf.keras.layers.Conv2D(filters=hp.Int('conv_4_filter',min_value=32,max_value=128,step=16),kernel_size=(3,3), activation='relu'),\n",
        "        tf.keras.layers.MaxPooling2D(2,2),\n",
        "\n",
        "        # Flatten the results to feed into a DNN\n",
        "        tf.keras.layers.Flatten(),\n",
        "\n",
        "        # 512 neuron hidden layer\n",
        "        tf.keras.layers.Dense(units=hp.Int('dense_1_units',min_value=128,max_value=1024,step=64), activation='relu'),\n",
        "        # 512 neuron hidden layer\n",
        "        tf.keras.layers.Dense(units=hp.Int('dense_2_units',min_value=128,max_value=1024,step=64), activation='relu'),\n",
        "\n",
        "        # Output layer\n",
        "        tf.keras.layers.Dense(5, activation='softmax')\n",
        "                                      \n",
        "    ])\n",
        "\n",
        "    model.compile(optimizer=tf.keras.optimizers.Adam(hp.Choice('learning_rate',values=[1e-2,1e-3])), loss='categorical_crossentropy', metrics=['accuracy'])\n",
        "    return model\n",
        "    "
      ],
      "execution_count": null,
      "outputs": []
    },
    {
      "cell_type": "code",
      "metadata": {
        "id": "YtWJXOt6k44Q"
      },
      "source": [
        "tuner_search=RandomSearch(build_model_search,objective='val_accuracy',max_trials=5,directory='output',project_name=\"Foods\")"
      ],
      "execution_count": null,
      "outputs": []
    },
    {
      "cell_type": "code",
      "metadata": {
        "id": "n24UggNSmJ81"
      },
      "source": [
        "tuner_search.search(train_generator,steps_per_epoch=125,epochs=3,validation_data=validation_generator)"
      ],
      "execution_count": null,
      "outputs": []
    },
    {
      "cell_type": "code",
      "metadata": {
        "id": "dU222EZTsXkK"
      },
      "source": [
        "model1 = tuner_search.get_best_models(1)[0]\n",
        "model1.summary()"
      ],
      "execution_count": null,
      "outputs": []
    }
  ]
}